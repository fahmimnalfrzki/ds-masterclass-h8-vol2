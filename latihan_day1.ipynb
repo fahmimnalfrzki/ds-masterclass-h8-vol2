{
  "nbformat": 4,
  "nbformat_minor": 0,
  "metadata": {
    "colab": {
      "name": "latihan day1.ipynb",
      "provenance": [],
      "collapsed_sections": [],
      "authorship_tag": "ABX9TyN7i0gShSCfcEtjAz0B320n",
      "include_colab_link": true
    },
    "kernelspec": {
      "name": "python3",
      "display_name": "Python 3"
    },
    "language_info": {
      "name": "python"
    }
  },
  "cells": [
    {
      "cell_type": "markdown",
      "metadata": {
        "id": "view-in-github",
        "colab_type": "text"
      },
      "source": [
        "<a href=\"https://colab.research.google.com/github/fahmimnalfrzki/ds-masterclass-h8-vol2/blob/main/latihan_day1.ipynb\" target=\"_parent\"><img src=\"https://colab.research.google.com/assets/colab-badge.svg\" alt=\"Open In Colab\"/></a>"
      ]
    },
    {
      "cell_type": "markdown",
      "metadata": {
        "id": "Wi-QwUnZee1O"
      },
      "source": [
        "Soal Latihan:\n",
        "\n",
        "1. Buatlah pie chart yang memberi tahu informasi mengenai jumlah responden berdasarkan jenis kelamin! Mana yang paling banyak?\n",
        "2. Buatlah histogram yang memberikan informasi frekuensi usia responden. Paling banyak rentang usia berapa?\n",
        "3. Buatlah diagram batang yang memberikan informasi mengenai jenis pekerjaan responden. Pekerjaan apa yang paling banyak digeluti?\n",
        "4. Buatlah scatter plot antara household member dan household monthly expense. Apa yang bisa Anda ceritakan dari hasil plot tersebut?"
      ]
    },
    {
      "cell_type": "code",
      "metadata": {
        "id": "vNEY-DiBfwVz"
      },
      "source": [
        "import pandas as pd\n",
        "import matplotlib.pyplot as plt\n",
        "\n",
        "data = pd.read_excel('https://github.com/fahmimnalfrzki/ds-masterclass-h8-vol2/blob/main/data/indo%20food%20consumption.xlsx?raw=true') #Load data excel ke python\n",
        "data"
      ],
      "execution_count": null,
      "outputs": []
    }
  ]
}