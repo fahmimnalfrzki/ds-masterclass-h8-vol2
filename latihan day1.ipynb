{
  "nbformat": 4,
  "nbformat_minor": 0,
  "metadata": {
    "colab": {
      "name": "latihan.ipynb",
      "provenance": [],
      "collapsed_sections": [],
      "authorship_tag": "ABX9TyPyjMr4+IJUotS/s65qUx20",
      "include_colab_link": true
    },
    "kernelspec": {
      "name": "python3",
      "display_name": "Python 3"
    },
    "language_info": {
      "name": "python"
    }
  },
  "cells": [
    {
      "cell_type": "markdown",
      "metadata": {
        "id": "view-in-github",
        "colab_type": "text"
      },
      "source": [
        "<a href=\"https://colab.research.google.com/github/fahmimnalfrzki/ds-masterclass-h8-vol2/blob/main/latihan%20day1.ipynb\" target=\"_parent\"><img src=\"https://colab.research.google.com/assets/colab-badge.svg\" alt=\"Open In Colab\"/></a>"
      ]
    },
    {
      "cell_type": "markdown",
      "metadata": {
        "id": "Wi-QwUnZee1O"
      },
      "source": [
        "Soal Latihan:\n",
        "\n",
        "1. Buatlah pie chart yang memberi tahu informasi mengenai jumlah responden berdasarkan jenis kelamin! Mana yang paling banyak?\n",
        "2. Buatlah histogram yang memberikan informasi frekuensi usia responden. Paling banyak rentang usia berapa?\n",
        "3. Buatlah diagram batang yang memberikan informasi mengenai jenis pekerjaan responden. Pekerjaan apa yang paling banyak digeluti?\n",
        "4. Buatlah scatter plot antara household member dan household monthly expense. Apa yang bisa Anda ceritakan dari hasil plot tersebut?"
      ]
    }
  ]
}